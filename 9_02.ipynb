{
  "nbformat": 4,
  "nbformat_minor": 0,
  "metadata": {
    "colab": {
      "provenance": [],
      "authorship_tag": "ABX9TyNMthJlCCT9w4Uu8lGIM8jT",
      "include_colab_link": true
    },
    "kernelspec": {
      "name": "python3",
      "display_name": "Python 3"
    },
    "language_info": {
      "name": "python"
    }
  },
  "cells": [
    {
      "cell_type": "markdown",
      "metadata": {
        "id": "view-in-github",
        "colab_type": "text"
      },
      "source": [
        "<a href=\"https://colab.research.google.com/github/InKyuHwang001/-KD_project01_Kaggle/blob/master/9_02.ipynb\" target=\"_parent\"><img src=\"https://colab.research.google.com/assets/colab-badge.svg\" alt=\"Open In Colab\"/></a>"
      ]
    },
    {
      "cell_type": "markdown",
      "source": [
        "# 실패율(틀림)\n",
        "- https://school.programmers.co.kr/learn/courses/30/lessons/42889"
      ],
      "metadata": {
        "id": "x-zQ_boYGgW-"
      }
    },
    {
      "cell_type": "code",
      "source": [
        "def solution(N, stages):\n",
        "    result = {}\n",
        "    denominator = len(stages)\n",
        "    for stage in range(1, N+1):\n",
        "        if denominator != 0:\n",
        "            count = stages.count(stage)\n",
        "            result[stage] = count / denominator\n",
        "            denominator -= count\n",
        "        else:\n",
        "            result[stage] = 0\n",
        "    return sorted(result, key=lambda x : result[x], reverse=True)"
      ],
      "metadata": {
        "id": "uFHtJ-VdGgMi"
      },
      "execution_count": null,
      "outputs": []
    },
    {
      "cell_type": "code",
      "source": [
        "def solution(N,stages):\n",
        "    answer=[]\n",
        "    length=len(stages)\n",
        "    #스테이지 번호를 1부터 N까지 증가시키며\n",
        "    for i in range(1,N+1):\n",
        "        #해당 스테이지에 머물러 있는 사람의 수 계산\n",
        "        count= stages.count(i)\n",
        "        #실패율 계산\n",
        "        if length==0:\n",
        "            fail=0\n",
        "        else:\n",
        "            fail=count/length\n",
        "        #리스트에 원소 삽입\n",
        "        answer.append((i,fail))\n",
        "        length-=count\n",
        "    #실패율을 기준으로 각 스테이지를 내림차순 정렬\n",
        "    answer=sorted(answer, key=lambda t:t[1], reverse=True)\n",
        "    #정렬된 스테이지 번호 출력\n",
        "    answer=[i[0] for i in answer]\n",
        "    return answer\n",
        "\n",
        "#lambda 매개변수 : 결과 ==(def f(매개변수):return 결과)\n",
        "#sorted(정렬할 데이터, key 파라미터, reverse 파라미터)\n",
        "  #key어떤기준/ reverse=True: 내림차순"
      ],
      "metadata": {
        "id": "ZPHjNSzfGgEN"
      },
      "execution_count": null,
      "outputs": []
    },
    {
      "cell_type": "markdown",
      "source": [
        "# 약수의 개수와 덧셈\n",
        "- https://school.programmers.co.kr/learn/courses/30/lessons/77884"
      ],
      "metadata": {
        "id": "K9P79SzWGf4I"
      }
    },
    {
      "cell_type": "code",
      "source": [
        "def solution(left, right):\n",
        "    answer = 0\n",
        "    for i in range(left, right+1):\n",
        "        tmp=0\n",
        "        for n in range(1,i+1):\n",
        "            if i%n==0:\n",
        "                tmp+=1\n",
        "        if tmp%2==0:\n",
        "            answer+=i\n",
        "        else:\n",
        "            answer-=i\n",
        "    return answer"
      ],
      "metadata": {
        "id": "K_L1JivVGfvm"
      },
      "execution_count": null,
      "outputs": []
    },
    {
      "cell_type": "code",
      "source": [
        "def solution(left, right):\n",
        "    answer = 0\n",
        "    for i in range(left,right+1):\n",
        "        if int(i**0.5)==i**0.5:\n",
        "            answer -= i\n",
        "        else:\n",
        "            answer += i\n",
        "    return answer"
      ],
      "metadata": {
        "id": "BuerFQtpGfn8"
      },
      "execution_count": null,
      "outputs": []
    },
    {
      "cell_type": "markdown",
      "source": [
        "# 3진법 뒤집기\n",
        "- https://school.programmers.co.kr/learn/courses/30/lessons/68935"
      ],
      "metadata": {
        "id": "Hc7JVl52GfdK"
      }
    },
    {
      "cell_type": "code",
      "source": [
        "def solution(n):\n",
        "    tmp=''\n",
        "    while n:\n",
        "        tmp += str(n % 3)\n",
        "        n = n // 3\n",
        "    answer = int(tmp, 3)\n",
        "    return answer"
      ],
      "metadata": {
        "id": "hZavHtUmGfUe"
      },
      "execution_count": null,
      "outputs": []
    },
    {
      "cell_type": "code",
      "source": [
        "def ternarymaker(x):\n",
        "    if x<3:\n",
        "        return str(x)\n",
        "    else:\n",
        "        return str(ternarymaker(x//3))+str(x%3)\n",
        "\n",
        "def solution(n):\n",
        "    ternary=list(ternarymaker(n))\n",
        "    ternary.reverse()\n",
        "    answer=''.join(ternary)\n",
        "    return int(answer,3)"
      ],
      "metadata": {
        "colab": {
          "base_uri": "https://localhost:8080/"
        },
        "id": "WtrohUEYGfM4",
        "outputId": "366f6555-7698-4a5d-8ec4-aa6f681815b2"
      },
      "execution_count": 7,
      "outputs": [
        {
          "output_type": "execute_result",
          "data": {
            "text/plain": [
              "['1', '2']"
            ]
          },
          "metadata": {},
          "execution_count": 7
        }
      ]
    },
    {
      "cell_type": "markdown",
      "source": [
        "# 예산\n",
        "- https://school.programmers.co.kr/learn/courses/30/lessons/12982"
      ],
      "metadata": {
        "id": "xgY-DW7nGfBG"
      }
    },
    {
      "cell_type": "code",
      "source": [
        "def solution(d, budget):\n",
        "    answer = 0\n",
        "    d.sort()\n",
        "    for i in d:\n",
        "        if i<=budget:\n",
        "            budget-=i\n",
        "            answer+=1\n",
        "    return answer"
      ],
      "metadata": {
        "id": "iqmAUw39Ge0V"
      },
      "execution_count": null,
      "outputs": []
    }
  ]
}
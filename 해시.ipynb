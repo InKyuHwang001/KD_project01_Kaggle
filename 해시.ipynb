{
  "nbformat": 4,
  "nbformat_minor": 0,
  "metadata": {
    "colab": {
      "name": "해시.ipynb",
      "provenance": [],
      "collapsed_sections": [],
      "authorship_tag": "ABX9TyPvZTpTkbZ1eXj8OizEJZ2Y",
      "include_colab_link": true
    },
    "kernelspec": {
      "name": "python3",
      "display_name": "Python 3"
    },
    "language_info": {
      "name": "python"
    }
  },
  "cells": [
    {
      "cell_type": "markdown",
      "metadata": {
        "id": "view-in-github",
        "colab_type": "text"
      },
      "source": [
        "<a href=\"https://colab.research.google.com/github/InKyuHwang001/-KD_project01_Kaggle/blob/master/%ED%95%B4%EC%8B%9C.ipynb\" target=\"_parent\"><img src=\"https://colab.research.google.com/assets/colab-badge.svg\" alt=\"Open In Colab\"/></a>"
      ]
    },
    {
      "cell_type": "markdown",
      "source": [
        "# 폰켓몬\n",
        "- https://school.programmers.co.kr/learn/courses/30/lessons/1845"
      ],
      "metadata": {
        "id": "7ZW-cdUPb3Zf"
      }
    },
    {
      "cell_type": "code",
      "source": [
        "def solution(nums):\n",
        "    max_=len(nums)//2\n",
        "    ki=len(list(set(nums)))\n",
        "    return max_ if max_<=ki else ki"
      ],
      "metadata": {
        "id": "P9xdGsWdb_Ao"
      },
      "execution_count": null,
      "outputs": []
    },
    {
      "cell_type": "code",
      "source": [
        "def solution(nums):\n",
        "    list_={i: 0 for i in nums}\n",
        "    for num in nums:\n",
        "        list_[num]+=1\n",
        "    \n",
        "    a=len(nums)//2\n",
        "    b=len(list_)\n",
        "    \n",
        "    return a if a<=b else b"
      ],
      "metadata": {
        "id": "4id8w6kKclRX"
      },
      "execution_count": null,
      "outputs": []
    },
    {
      "cell_type": "markdown",
      "source": [
        "# 완주하지 못한 선수\n",
        "- https://school.programmers.co.kr/learn/courses/30/lessons/42576"
      ],
      "metadata": {
        "id": "HP7pmM5GeQUv"
      }
    },
    {
      "cell_type": "code",
      "source": [
        "def solution(participant, completion):\n",
        "\n",
        "    participant.sort()\n",
        "    completion.sort()\n",
        "\n",
        "    for i in range(len(completion)):\n",
        "        if(participant[i] != completion[i]):\n",
        "            return participant[i]\n",
        "\n",
        "    return participant[len(participant)-1]"
      ],
      "metadata": {
        "id": "_TVkbsRQeYV0"
      },
      "execution_count": null,
      "outputs": []
    },
    {
      "cell_type": "code",
      "source": [
        "def solution(participant, completion):\n",
        "\n",
        "    list_={x:0 for x in participant}\n",
        "    for i in participant:\n",
        "        list_[i]+=1\n",
        "        \n",
        "    for mem in completion:\n",
        "        list_[mem]-=1\n",
        "    for key, value in list_.items():\n",
        "        if value==1:\n",
        "            answer=key\n",
        "    return answer"
      ],
      "metadata": {
        "id": "OMKwpg8UgoUk"
      },
      "execution_count": null,
      "outputs": []
    },
    {
      "cell_type": "markdown",
      "source": [
        "# 전화번호 목록\n",
        "- https://school.programmers.co.kr/learn/courses/30/lessons/42577"
      ],
      "metadata": {
        "id": "nrs9YxxAgw03"
      }
    },
    {
      "cell_type": "code",
      "source": [
        "def solution(phone_book):\n",
        "    hash_map = {}\n",
        "    for phone_number in phone_book:\n",
        "        hash_map[phone_number] = 1\n",
        "    \n",
        "    for phone_number in phone_book:\n",
        "        jubdoo = \"\"\n",
        "        for number in phone_number:\n",
        "            jubdoo += number\n",
        "            if jubdoo in hash_map and jubdoo != phone_number:\n",
        "                return False\n",
        "    return True"
      ],
      "metadata": {
        "id": "MEO-0_S0hLna"
      },
      "execution_count": null,
      "outputs": []
    },
    {
      "cell_type": "code",
      "source": [
        "def solution(phoneBook):\n",
        "    phoneBook = sorted(phoneBook)\n",
        "\n",
        "    for p1, p2 in zip(phoneBook, phoneBook[1:]):\n",
        "        if p2.startswith(p1):\n",
        "            return False\n",
        "    return True"
      ],
      "metadata": {
        "id": "36kRJSZbhZwA"
      },
      "execution_count": null,
      "outputs": []
    },
    {
      "cell_type": "markdown",
      "source": [
        "# 위장\n",
        "- https://school.programmers.co.kr/learn/courses/30/lessons/42578"
      ],
      "metadata": {
        "id": "VbcoadnjhoyD"
      }
    },
    {
      "cell_type": "code",
      "source": [
        "def solution(clothes):\n",
        "    # 1. 옷을 종류별로 구분하기\n",
        "    hash_map = {}\n",
        "    for clothe, type in clothes:\n",
        "        hash_map[type] = hash_map.get(type, 0) + 1\n",
        "        \n",
        "    # 2. 입지 않는 경우를 추가하여 모든 조합 계산하기\n",
        "    answer = 1\n",
        "    for type in hash_map:   \n",
        "        answer *= (hash_map[type] + 1)\n",
        "    \n",
        "    # 3. 아무종류의 옷도 입지 않는 경우 제외하기\n",
        "    return answer - 1"
      ],
      "metadata": {
        "id": "S7ZIB2ifhojp"
      },
      "execution_count": null,
      "outputs": []
    }
  ]
}